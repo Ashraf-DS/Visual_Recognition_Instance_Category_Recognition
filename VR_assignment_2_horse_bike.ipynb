{
 "cells": [
  {
   "cell_type": "code",
   "execution_count": null,
   "metadata": {
    "id": "jn8hwgrAY02j"
   },
   "outputs": [],
   "source": [
    "import cv2\n",
    "import numpy as np\n",
    "import os\n",
    "import matplotlib.pyplot as plt\n",
    "import random\n",
    "import pylab as pl\n",
    "from sklearn.metrics import confusion_matrix,accuracy_score\n",
    "import pandas as pd"
   ]
  },
  {
   "cell_type": "code",
   "execution_count": null,
   "metadata": {
    "id": "Prgvqe6gY_G6"
   },
   "outputs": [],
   "source": [
    "from zipfile import ZipFile\n",
    "file_name = '/content/Bikes.zip'\n",
    "\n",
    "with ZipFile(file_name, 'r') as zip:\n",
    "  zip.extractall()\n",
    "  print('Done')"
   ]
  },
  {
   "cell_type": "code",
   "execution_count": null,
   "metadata": {
    "id": "bX3Y2KAiZ1Jy"
   },
   "outputs": [],
   "source": [
    "from zipfile import ZipFile\n",
    "file_name = '/content/Horses.zip'\n",
    "\n",
    "with ZipFile(file_name, 'r') as zip:\n",
    "  zip.extractall()\n",
    "  print('Done')"
   ]
  },
  {
   "cell_type": "code",
   "execution_count": null,
   "metadata": {
    "id": "NRfpWcmkY_Cn"
   },
   "outputs": [],
   "source": [
    "btrain_path=\"/content/Bikes\"\n",
    "bikes_name=os.listdir(btrain_path)"
   ]
  },
  {
   "cell_type": "code",
   "execution_count": null,
   "metadata": {
    "id": "1TwMPq6CzGQa"
   },
   "outputs": [],
   "source": [
    "#bikes_name"
   ]
  },
  {
   "cell_type": "code",
   "execution_count": null,
   "metadata": {
    "id": "VSyhtf_Ecry5"
   },
   "outputs": [],
   "source": [
    "type(bikes_name)"
   ]
  },
  {
   "cell_type": "code",
   "execution_count": null,
   "metadata": {
    "id": "kcpwe5cYzJHa"
   },
   "outputs": [],
   "source": [
    "htrain_path=\"/content/Horses\"\n",
    "horses_name=os.listdir(htrain_path)"
   ]
  },
  {
   "cell_type": "code",
   "execution_count": null,
   "metadata": {
    "id": "kVc_rNOJcxRU"
   },
   "outputs": [],
   "source": [
    "class_names= ['horse','bike']  ## so there are only 2 classes here"
   ]
  },
  {
   "cell_type": "code",
   "execution_count": null,
   "metadata": {
    "id": "0g4QH-jSeqRf"
   },
   "outputs": [],
   "source": [
    "type(class_names)"
   ]
  },
  {
   "cell_type": "code",
   "execution_count": null,
   "metadata": {
    "id": "iC6TIa9neqFu"
   },
   "outputs": [],
   "source": [
    "image_paths=[]\n",
    "himage_paths=[]  ## horse image path are defined here\n",
    "bimage_paths=[]  ## bike image paths are defined here\n",
    "\n",
    "image_classes=[]"
   ]
  },
  {
   "cell_type": "code",
   "execution_count": null,
   "metadata": {
    "id": "sWfYOOuXe5sp"
   },
   "outputs": [],
   "source": [
    "def img_list(path):\n",
    "    return (os.path.join(path,f) for f in os.listdir(path))"
   ]
  },
  {
   "cell_type": "code",
   "execution_count": null,
   "metadata": {
    "id": "1al12I_te5mc"
   },
   "outputs": [],
   "source": [
    "for training_name in horses_name:\n",
    "    class_path=os.path.join(htrain_path,training_name)\n",
    "    #class_path=img_list(dir_)\n",
    "    himage_paths.append(class_path)"
   ]
  },
  {
   "cell_type": "code",
   "execution_count": null,
   "metadata": {
    "id": "nr9JOzZqhaKr"
   },
   "outputs": [],
   "source": [
    "#himage_paths"
   ]
  },
  {
   "cell_type": "code",
   "execution_count": null,
   "metadata": {
    "id": "Abk665gGhmdQ"
   },
   "outputs": [],
   "source": [
    "class_path"
   ]
  },
  {
   "cell_type": "code",
   "execution_count": null,
   "metadata": {
    "id": "m-KnlYNte5gY"
   },
   "outputs": [],
   "source": [
    "for training_name in bikes_name:\n",
    "    class_path=os.path.join(btrain_path,training_name)\n",
    "    #class_path=img_list(dir_)\n",
    "    bimage_paths.append(class_path)"
   ]
  },
  {
   "cell_type": "code",
   "execution_count": null,
   "metadata": {
    "id": "pN4qq3wqjrH2"
   },
   "outputs": [],
   "source": [
    "image_paths = himage_paths + bimage_paths"
   ]
  },
  {
   "cell_type": "code",
   "execution_count": null,
   "metadata": {
    "id": "1dRRJsSJgndS"
   },
   "outputs": [],
   "source": [
    "len(image_paths)"
   ]
  },
  {
   "cell_type": "code",
   "execution_count": null,
   "metadata": {
    "id": "lIy8MyyhYsht"
   },
   "outputs": [],
   "source": [
    "type(image_paths)"
   ]
  },
  {
   "cell_type": "code",
   "execution_count": null,
   "metadata": {
    "id": "2lridjNjZVra"
   },
   "outputs": [],
   "source": []
  },
  {
   "cell_type": "code",
   "execution_count": null,
   "metadata": {
    "id": "Zjd3raw3hVrF"
   },
   "outputs": [],
   "source": [
    "image_classes_0=[0]*(len(himage_paths))"
   ]
  },
  {
   "cell_type": "code",
   "execution_count": null,
   "metadata": {
    "id": "fKYnvBtUi024"
   },
   "outputs": [],
   "source": [
    "image_classes_1=[1]*(len(bimage_paths))"
   ]
  },
  {
   "cell_type": "code",
   "execution_count": null,
   "metadata": {
    "id": "l2MG6X6Gi4X7"
   },
   "outputs": [],
   "source": [
    "image_classes=image_classes_0+image_classes_1"
   ]
  },
  {
   "cell_type": "code",
   "execution_count": null,
   "metadata": {
    "id": "3K9kAyKPi74K"
   },
   "outputs": [],
   "source": [
    "image_classes"
   ]
  },
  {
   "cell_type": "code",
   "execution_count": null,
   "metadata": {
    "id": "oFB7Vwc-i92g"
   },
   "outputs": [],
   "source": [
    "len(image_classes)"
   ]
  },
  {
   "cell_type": "code",
   "execution_count": null,
   "metadata": {
    "id": "x2KmhSlFkQpB"
   },
   "outputs": [],
   "source": [
    "D=[]"
   ]
  },
  {
   "cell_type": "code",
   "execution_count": null,
   "metadata": {
    "id": "Ad3w8fE0knOj"
   },
   "outputs": [],
   "source": [
    "for i in range(len(image_paths)):\n",
    "    D.append((image_paths[i],image_classes[i]))"
   ]
  },
  {
   "cell_type": "code",
   "execution_count": null,
   "metadata": {
    "id": "vguPzwlvkvyQ"
   },
   "outputs": [],
   "source": [
    "len(D)"
   ]
  },
  {
   "cell_type": "code",
   "execution_count": null,
   "metadata": {
    "id": "-GF1siGhkzSl"
   },
   "outputs": [],
   "source": [
    "dataset = D\n",
    "random.shuffle(dataset)"
   ]
  },
  {
   "cell_type": "code",
   "execution_count": null,
   "metadata": {
    "id": "I_1QzXasq05b"
   },
   "outputs": [],
   "source": [
    "df = pd.DataFrame(dataset)\n",
    "train = dataset[:150]  ### taking the first 150 data in trainimg data \n",
    "test = dataset[150:]    ### taking the test data  after 150 data into test data "
   ]
  },
  {
   "cell_type": "code",
   "execution_count": null,
   "metadata": {
    "id": "oYfrYx7ze17u"
   },
   "outputs": [],
   "source": [
    "df_train = pd.DataFrame(train)\n",
    "df_test = pd.DataFrame(test)"
   ]
  },
  {
   "cell_type": "code",
   "execution_count": null,
   "metadata": {
    "id": "s0GAxfQScjJS"
   },
   "outputs": [],
   "source": []
  },
  {
   "cell_type": "markdown",
   "metadata": {
    "id": "yBvFxN07v-DP"
   },
   "source": [
    "## defining train and test data "
   ]
  },
  {
   "cell_type": "code",
   "execution_count": null,
   "metadata": {
    "id": "hN58DdL0wB35"
   },
   "outputs": [],
   "source": []
  },
  {
   "cell_type": "code",
   "execution_count": null,
   "metadata": {
    "id": "rHNkYuT7Y2H9"
   },
   "outputs": [],
   "source": [
    "timage_paths = df_train[0]  ### train image paths are here\n",
    "y_train = df_train[1]      \n",
    "test_image_paths = df_test[0]\n",
    "y_test = df_test[1]"
   ]
  },
  {
   "cell_type": "code",
   "execution_count": null,
   "metadata": {
    "id": "uNK1_ywdeHfg"
   },
   "outputs": [],
   "source": [
    "y_train"
   ]
  },
  {
   "cell_type": "code",
   "execution_count": null,
   "metadata": {
    "id": "bn0Su7zIX-DC"
   },
   "outputs": [],
   "source": [
    "type(timage_paths)"
   ]
  },
  {
   "cell_type": "code",
   "execution_count": null,
   "metadata": {
    "id": "B2W6bNvtoZX7"
   },
   "outputs": [],
   "source": [
    "df_train= pd.DataFrame(train)"
   ]
  },
  {
   "cell_type": "code",
   "execution_count": null,
   "metadata": {
    "id": "YC6RZWAvWKKX"
   },
   "outputs": [],
   "source": [
    "df_train[0]"
   ]
  },
  {
   "cell_type": "code",
   "execution_count": null,
   "metadata": {
    "id": "Nmt1glCHoyoF"
   },
   "outputs": [],
   "source": [
    "df_test = pd.DataFrame(test)"
   ]
  },
  {
   "cell_type": "code",
   "execution_count": null,
   "metadata": {
    "id": "45lR8mTWpPGx"
   },
   "outputs": [],
   "source": [
    "df_train[1]"
   ]
  },
  {
   "cell_type": "code",
   "execution_count": null,
   "metadata": {
    "id": "q_6mS-x3lHzS"
   },
   "outputs": [],
   "source": [
    "train"
   ]
  },
  {
   "cell_type": "code",
   "execution_count": null,
   "metadata": {
    "id": "GEGkTaoGlwIq"
   },
   "outputs": [],
   "source": [
    "des_list=[]"
   ]
  },
  {
   "cell_type": "code",
   "execution_count": null,
   "metadata": {
    "id": "PBYIp92pzOzo"
   },
   "outputs": [],
   "source": [
    "orb = cv2.ORB_create() ####  here we are using ORB algorithm "
   ]
  },
  {
   "cell_type": "code",
   "execution_count": null,
   "metadata": {
    "id": "8AT6MZWIl81q"
   },
   "outputs": [],
   "source": [
    "orb=cv2.ORB_create()"
   ]
  },
  {
   "cell_type": "markdown",
   "metadata": {
    "id": "uYIbtNHJVjFX"
   },
   "source": [
    "## just checking for example"
   ]
  },
  {
   "cell_type": "code",
   "execution_count": null,
   "metadata": {
    "id": "mS_pvYxbl_Qq"
   },
   "outputs": [],
   "source": [
    "im=cv2.imread(image_paths[5])"
   ]
  },
  {
   "cell_type": "markdown",
   "metadata": {
    "id": "DIndlun_VhaC"
   },
   "source": []
  },
  {
   "cell_type": "code",
   "execution_count": null,
   "metadata": {
    "id": "B5gh9uGXmDCJ"
   },
   "outputs": [],
   "source": [
    "plt.imshow(im)"
   ]
  },
  {
   "cell_type": "code",
   "execution_count": null,
   "metadata": {
    "id": "qNcqavsamGZ3"
   },
   "outputs": [],
   "source": [
    "def draw_keypoints(vis, keypoints, color = (0, 255, 255)):\n",
    "    for kp in keypoints:\n",
    "            x, y = kp.pt\n",
    "            plt.imshow(cv2.circle(vis, (int(x), int(y)), 2, color))"
   ]
  },
  {
   "cell_type": "markdown",
   "metadata": {
    "id": "gkMv65KNvVsm"
   },
   "source": [
    "we are checking one eamples here :-"
   ]
  },
  {
   "cell_type": "code",
   "execution_count": null,
   "metadata": {
    "id": "KFN0l10NmOyy"
   },
   "outputs": [],
   "source": [
    "kp = orb.detect(im,None)\n",
    "kp, des = orb.compute(im, kp)   ### kp is nothing but keypoints here and des is descriptor here\n",
    "img=draw_keypoints(im,kp)       "
   ]
  },
  {
   "cell_type": "code",
   "execution_count": null,
   "metadata": {
    "id": "Cak_gqHTcQ9a"
   },
   "outputs": [],
   "source": []
  },
  {
   "cell_type": "markdown",
   "metadata": {
    "id": "oTmwR-KCWFIo"
   },
   "source": [
    "##Appending descriptors of the training images in list"
   ]
  },
  {
   "cell_type": "code",
   "execution_count": null,
   "metadata": {
    "id": "iSgfhEwamS4C"
   },
   "outputs": [],
   "source": [
    "for image_pat in timage_paths:\n",
    "    im=cv2.imread(image_pat)\n",
    "    kp=orb.detect(im,None)\n",
    "    keypoints,descriptor= orb.compute(im, kp)\n",
    "    des_list.append((image_pat,descriptor))"
   ]
  },
  {
   "cell_type": "code",
   "execution_count": null,
   "metadata": {
    "id": "_U-IVlhLmle2"
   },
   "outputs": [],
   "source": [
    "descriptors=des_list[0][1]\n",
    "for image_path,descriptor in des_list[1:]:\n",
    "    descriptors=np.vstack((descriptors,descriptor))"
   ]
  },
  {
   "cell_type": "code",
   "execution_count": null,
   "metadata": {
    "id": "9O4wLz-tmrgb"
   },
   "outputs": [],
   "source": [
    "descriptors.shape"
   ]
  },
  {
   "cell_type": "code",
   "execution_count": null,
   "metadata": {
    "id": "m3m0JCZMmumq"
   },
   "outputs": [],
   "source": [
    "descriptors_float=descriptors.astype(float)"
   ]
  },
  {
   "cell_type": "markdown",
   "metadata": {
    "id": "hqpVgDWWm1lh"
   },
   "source": [
    "## K - means clustring on Descriptors"
   ]
  },
  {
   "cell_type": "code",
   "execution_count": null,
   "metadata": {
    "id": "EHz7NynPmz7J"
   },
   "outputs": [],
   "source": [
    "from scipy.cluster.vq import kmeans,vq"
   ]
  },
  {
   "cell_type": "code",
   "execution_count": null,
   "metadata": {
    "id": "lI6ghi0Qm9We"
   },
   "outputs": [],
   "source": [
    "k=200\n",
    "voc,variance=kmeans(descriptors_float,k,1)"
   ]
  },
  {
   "cell_type": "markdown",
   "metadata": {
    "id": "D06MKzLhWlrQ"
   },
   "source": [
    "##Creating histogram of training image"
   ]
  },
  {
   "cell_type": "code",
   "execution_count": null,
   "metadata": {
    "id": "wSPE2iZ8nKoO"
   },
   "outputs": [],
   "source": [
    "im_features=np.zeros((len(timage_paths),k),\"float32\")\n",
    "for i in range(len(timage_paths)):\n",
    "    words,distance=vq(des_list[i][1],voc)\n",
    "    for w in words:\n",
    "        im_features[i][w]+=1"
   ]
  },
  {
   "cell_type": "code",
   "execution_count": null,
   "metadata": {
    "id": "Mw_wGzMuYYxm"
   },
   "outputs": [],
   "source": []
  },
  {
   "cell_type": "markdown",
   "metadata": {
    "id": "EHpzy2hgWZhu"
   },
   "source": [
    "##Creating Classification Model with SVM"
   ]
  },
  {
   "cell_type": "code",
   "execution_count": null,
   "metadata": {
    "id": "St4ex7xanOOA"
   },
   "outputs": [],
   "source": [
    "from sklearn.svm import LinearSVC\n",
    "clf=LinearSVC(max_iter=80000)\n",
    "clf.fit(im_features,np.array(y_train))"
   ]
  },
  {
   "cell_type": "code",
   "execution_count": null,
   "metadata": {
    "id": "kw5Ln2V7nSEu"
   },
   "outputs": [],
   "source": [
    "LinearSVC(C=1.0, class_weight=None, dual=True, fit_intercept=True,\n",
    "          intercept_scaling=1, loss='squared_hinge', max_iter=80000,\n",
    "          multi_class='ovr', penalty='l2', tol=0.0001)"
   ]
  },
  {
   "cell_type": "markdown",
   "metadata": {
    "id": "v_K0DcUnWvTP"
   },
   "source": [
    "## testing the model and calculating the accuracy"
   ]
  },
  {
   "cell_type": "code",
   "execution_count": null,
   "metadata": {
    "id": "0P2RptAnrOEH"
   },
   "outputs": [],
   "source": [
    "des_list_test=[]"
   ]
  },
  {
   "cell_type": "code",
   "execution_count": null,
   "metadata": {
    "id": "CaZDYNfbW0UC"
   },
   "outputs": [],
   "source": [
    "type(test)"
   ]
  },
  {
   "cell_type": "code",
   "execution_count": null,
   "metadata": {
    "id": "BAyR5glsrM79"
   },
   "outputs": [],
   "source": [
    "for image_pat in test_image_paths:\n",
    "    image=cv2.imread(image_pat,1)\n",
    "    kp=orb.detect(image,None)\n",
    "    keypoints_test,descriptor_test= orb.compute(image, kp)\n",
    "    des_list_test.append((image_pat,descriptor_test))"
   ]
  },
  {
   "cell_type": "code",
   "execution_count": null,
   "metadata": {
    "id": "KioyOXVQrEtl"
   },
   "outputs": [],
   "source": [
    "len(des_list_test)"
   ]
  },
  {
   "cell_type": "code",
   "execution_count": null,
   "metadata": {
    "id": "aCb3R7Dcscx8"
   },
   "outputs": [],
   "source": [
    "len(test_image_paths)"
   ]
  },
  {
   "cell_type": "code",
   "execution_count": null,
   "metadata": {
    "id": "y2QltLYwgDb-"
   },
   "outputs": [],
   "source": [
    "from scipy.cluster.vq import vq\n",
    "test_features=np.zeros((len(test_image_paths),k),\"float32\")\n",
    "for i in range(len(test_image_paths)):\n",
    "    words,distance=vq(des_list_test[i][1],voc)\n",
    "    for w in words:\n",
    "        test_features[i][w]+=1"
   ]
  },
  {
   "cell_type": "code",
   "execution_count": null,
   "metadata": {
    "id": "6go0uaYKs2T8"
   },
   "outputs": [],
   "source": [
    "test_features"
   ]
  },
  {
   "cell_type": "code",
   "execution_count": null,
   "metadata": {
    "id": "1yNLwha0s49V"
   },
   "outputs": [],
   "source": []
  },
  {
   "cell_type": "code",
   "execution_count": null,
   "metadata": {
    "id": "vCn7UPURs8Ze"
   },
   "outputs": [],
   "source": [
    "true_classes=[]\n",
    "for i in y_test:\n",
    "    if i==1:\n",
    "        true_classes.append(\"Bike\")\n",
    "    else:\n",
    "        true_classes.append(\"Horse\")"
   ]
  },
  {
   "cell_type": "code",
   "execution_count": null,
   "metadata": {
    "id": "HyKqF6JDtjgW"
   },
   "outputs": [],
   "source": [
    "predict_classes=[]\n",
    "for i in clf.predict(test_features):\n",
    "    if i==1:\n",
    "        predict_classes.append(\"Bike\")\n",
    "    else:\n",
    "        predict_classes.append(\"Horse\")"
   ]
  },
  {
   "cell_type": "code",
   "execution_count": null,
   "metadata": {
    "id": "A77QdGaJtxNy"
   },
   "outputs": [],
   "source": [
    "print(true_classes)"
   ]
  },
  {
   "cell_type": "code",
   "execution_count": null,
   "metadata": {
    "id": "wzUr52LytzTs"
   },
   "outputs": [],
   "source": [
    "print(predict_classes)"
   ]
  },
  {
   "cell_type": "code",
   "execution_count": null,
   "metadata": {
    "id": "Ve6klIMEt8M0"
   },
   "outputs": [],
   "source": [
    "clf.predict(test_features)"
   ]
  },
  {
   "cell_type": "code",
   "execution_count": null,
   "metadata": {
    "id": "K623iCMCuA9p"
   },
   "outputs": [],
   "source": [
    "accuracy=accuracy_score(true_classes,predict_classes)\n",
    "print(accuracy)"
   ]
  },
  {
   "cell_type": "code",
   "execution_count": null,
   "metadata": {
    "id": "_HejtuNeuEdM"
   },
   "outputs": [],
   "source": []
  }
 ],
 "metadata": {
  "colab": {
   "collapsed_sections": [],
   "name": "VR_assignment_2_final.ipynb",
   "private_outputs": true,
   "provenance": []
  },
  "kernelspec": {
   "display_name": "Python 3 (ipykernel)",
   "language": "python",
   "name": "python3"
  },
  "language_info": {
   "codemirror_mode": {
    "name": "ipython",
    "version": 3
   },
   "file_extension": ".py",
   "mimetype": "text/x-python",
   "name": "python",
   "nbconvert_exporter": "python",
   "pygments_lexer": "ipython3",
   "version": "3.9.5"
  }
 },
 "nbformat": 4,
 "nbformat_minor": 1
}
